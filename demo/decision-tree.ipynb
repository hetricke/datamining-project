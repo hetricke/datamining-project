{
 "cells": [
  {
   "cell_type": "code",
   "execution_count": 1,
   "metadata": {},
   "outputs": [],
   "source": [
    "from sklearn import tree\n",
    "from sklearn.ensemble import RandomForestClassifier\n",
    "from sklearn.metrics import classification_report\n",
    "from ucimlrepo import fetch_ucirepo\n",
    "import pandas as pd"
   ]
  },
  {
   "cell_type": "code",
   "execution_count": 2,
   "metadata": {},
   "outputs": [],
   "source": [
    "# fetch dataset \n",
    "heart_disease = fetch_ucirepo(id=45) \n",
    "\n",
    "# data (as pandas dataframes) \n",
    "X = heart_disease.data.features \n",
    "y = heart_disease.data.targets\n",
    "y = y.rename(columns={\"num\":\"diagnosis\"})\n",
    "\n",
    "#Finds the index for an 80:20 split of the data\n",
    "split = int(len(X)*0.8)\n"
   ]
  },
  {
   "cell_type": "code",
   "execution_count": 3,
   "metadata": {},
   "outputs": [],
   "source": [
    "#Creates a decision tree model based on the provided data and prints a report of its performance\n",
    "\n",
    "def decision_tree (X_train, X_test, y_train, y_test):\n",
    "    classification_tree = tree.DecisionTreeClassifier()\n",
    "    classification_tree = classification_tree.fit(X_train, y_train)\n",
    "\n",
    "    y_pred = classification_tree.predict(X_test)\n",
    "    model_report = classification_report(y_test, y_pred, zero_division=0)\n",
    "    print(model_report)"
   ]
  },
  {
   "cell_type": "code",
   "execution_count": 4,
   "metadata": {},
   "outputs": [
    {
     "name": "stdout",
     "output_type": "stream",
     "text": [
      "              precision    recall  f1-score   support\n",
      "\n",
      "           0       0.61      0.86      0.71        29\n",
      "           1       0.20      0.08      0.12        12\n",
      "           2       0.50      0.23      0.32        13\n",
      "           3       0.29      0.40      0.33         5\n",
      "           4       0.00      0.00      0.00         2\n",
      "\n",
      "    accuracy                           0.51        61\n",
      "   macro avg       0.32      0.32      0.30        61\n",
      "weighted avg       0.46      0.51      0.46        61\n",
      "\n"
     ]
    }
   ],
   "source": [
    "#Decision Tree, no feature or target modification\n",
    "\n",
    "X_train = X[:split]\n",
    "X_test = X[split:]\n",
    "y_train = y[:split]\n",
    "y_test = y[split:]\n",
    "\n",
    "decision_tree(X_train, X_test, y_train, y_test)"
   ]
  },
  {
   "cell_type": "code",
   "execution_count": 5,
   "metadata": {},
   "outputs": [
    {
     "name": "stdout",
     "output_type": "stream",
     "text": [
      "              precision    recall  f1-score   support\n",
      "\n",
      "           0       0.62      0.79      0.70        29\n",
      "           1       0.12      0.08      0.10        12\n",
      "           2       0.33      0.15      0.21        13\n",
      "           3       0.17      0.20      0.18         5\n",
      "           4       0.00      0.00      0.00         2\n",
      "\n",
      "    accuracy                           0.44        61\n",
      "   macro avg       0.25      0.25      0.24        61\n",
      "weighted avg       0.40      0.44      0.41        61\n",
      "\n"
     ]
    }
   ],
   "source": [
    "#Features with no correlation to target removed\n",
    "\n",
    "X_mod = X.copy()\n",
    "X_mod = X_mod.drop(['trestbps', 'chol', 'fbs'], axis=1)\n",
    "\n",
    "X_train = X_mod[:split]\n",
    "X_test = X_mod[split:]\n",
    "y_train = y[:split]\n",
    "y_test = y[split:]\n",
    "\n",
    "decision_tree(X_train, X_test, y_train, y_test)"
   ]
  },
  {
   "cell_type": "code",
   "execution_count": 6,
   "metadata": {},
   "outputs": [
    {
     "name": "stdout",
     "output_type": "stream",
     "text": [
      "              precision    recall  f1-score   support\n",
      "\n",
      "           0       0.62      0.86      0.72        29\n",
      "           1       0.81      0.53      0.64        32\n",
      "\n",
      "    accuracy                           0.69        61\n",
      "   macro avg       0.72      0.70      0.68        61\n",
      "weighted avg       0.72      0.69      0.68        61\n",
      "\n"
     ]
    }
   ],
   "source": [
    "#Target data condensed down binary options\n",
    "\n",
    "y_mod = y.copy()\n",
    "y_mod['diagnosis'] = y_mod['diagnosis'].map(lambda d: 1 if d != 0 else 0)\n",
    "\n",
    "X_train = X[:split]\n",
    "X_test = X[split:]\n",
    "y_train = y_mod[:split]\n",
    "y_test = y_mod[split:]\n",
    "\n",
    "decision_tree(X_train, X_test, y_train, y_test)"
   ]
  },
  {
   "cell_type": "code",
   "execution_count": 7,
   "metadata": {},
   "outputs": [
    {
     "name": "stdout",
     "output_type": "stream",
     "text": [
      "              precision    recall  f1-score   support\n",
      "\n",
      "           0       0.56      0.76      0.65        29\n",
      "           1       0.68      0.47      0.56        32\n",
      "\n",
      "    accuracy                           0.61        61\n",
      "   macro avg       0.62      0.61      0.60        61\n",
      "weighted avg       0.63      0.61      0.60        61\n",
      "\n"
     ]
    }
   ],
   "source": [
    "#Target data condensed to binary option, features with no correlation to diagnosis removed\n",
    "\n",
    "X_mod = X.copy()\n",
    "X_mod = X_mod.drop(['trestbps', 'chol', 'fbs'], axis=1)\n",
    "y_mod = y.copy()\n",
    "y_mod['diagnosis'] = y_mod['diagnosis'].map(lambda d: 1 if d != 0 else 0)\n",
    "\n",
    "X_train = X_mod[:split]\n",
    "X_test = X_mod[split:]\n",
    "y_train = y_mod[:split]\n",
    "y_test = y_mod[split:]\n",
    "\n",
    "decision_tree(X_train, X_test, y_train, y_test)"
   ]
  },
  {
   "cell_type": "code",
   "execution_count": 8,
   "metadata": {},
   "outputs": [],
   "source": [
    "#Creates a Random Forest Classifier based on provided data and prints a report on the model's performance\n",
    "\n",
    "def random_forest(X_train, X_test, y_train, y_test):\n",
    "    rf = RandomForestClassifier(n_estimators=100, \n",
    "                            max_depth=5, \n",
    "                            min_samples_split=2, \n",
    "                            min_samples_leaf=1, \n",
    "                            max_features='sqrt',\n",
    "                            criterion='gini', \n",
    "                            )\n",
    "\n",
    "    rf.fit(X_train, y_train)\n",
    "    \n",
    "    y_pred = rf.predict(X_test)\n",
    "    model_report = classification_report(y_test, y_pred, zero_division=0)\n",
    "    print(model_report)"
   ]
  },
  {
   "cell_type": "code",
   "execution_count": 9,
   "metadata": {},
   "outputs": [
    {
     "name": "stdout",
     "output_type": "stream",
     "text": [
      "              precision    recall  f1-score   support\n",
      "\n",
      "           0       0.61      0.97      0.75        29\n",
      "           1       0.67      0.17      0.27        12\n",
      "           2       0.00      0.00      0.00        13\n",
      "           3       0.18      0.40      0.25         5\n",
      "           4       0.00      0.00      0.00         2\n",
      "\n",
      "    accuracy                           0.52        61\n",
      "   macro avg       0.29      0.31      0.25        61\n",
      "weighted avg       0.44      0.52      0.43        61\n",
      "\n"
     ]
    }
   ],
   "source": [
    "#Creates a random forest model based on unmodified data\n",
    "\n",
    "X_train = X[:split]\n",
    "X_test = X[split:]\n",
    "y_train = y[:split]['diagnosis']\n",
    "y_test = y[split:]['diagnosis']\n",
    "\n",
    "random_forest(X_train, X_test, y_train, y_test)"
   ]
  },
  {
   "cell_type": "code",
   "execution_count": 10,
   "metadata": {},
   "outputs": [
    {
     "name": "stdout",
     "output_type": "stream",
     "text": [
      "              precision    recall  f1-score   support\n",
      "\n",
      "           0       0.67      0.90      0.76        29\n",
      "           1       0.86      0.59      0.70        32\n",
      "\n",
      "    accuracy                           0.74        61\n",
      "   macro avg       0.77      0.75      0.73        61\n",
      "weighted avg       0.77      0.74      0.73        61\n",
      "\n"
     ]
    }
   ],
   "source": [
    "#Creates a random forest model; target labels have been condensed into binary options\n",
    "\n",
    "y_mod = y.copy()\n",
    "y_mod['diagnosis'] = y_mod['diagnosis'].map(lambda d: 1 if d != 0 else 0)\n",
    "\n",
    "X_train = X[:split]\n",
    "X_test = X[split:]\n",
    "y_train = y_mod[:split]['diagnosis']\n",
    "y_test = y_mod[split:]['diagnosis']\n",
    "\n",
    "random_forest(X_train, X_test, y_train, y_test)"
   ]
  }
 ],
 "metadata": {
  "kernelspec": {
   "display_name": ".venv",
   "language": "python",
   "name": "python3"
  },
  "language_info": {
   "codemirror_mode": {
    "name": "ipython",
    "version": 3
   },
   "file_extension": ".py",
   "mimetype": "text/x-python",
   "name": "python",
   "nbconvert_exporter": "python",
   "pygments_lexer": "ipython3",
   "version": "3.12.2"
  }
 },
 "nbformat": 4,
 "nbformat_minor": 2
}
