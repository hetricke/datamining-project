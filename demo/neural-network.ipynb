{
 "cells": [
  {
   "cell_type": "code",
   "execution_count": 130,
   "metadata": {},
   "outputs": [],
   "source": [
    "from sklearn.metrics import f1_score\n",
    "from tensorflow.keras.models import Sequential\n",
    "from tensorflow.keras.layers import Dense\n",
    "from tensorflow.keras.optimizers import Adam\n",
    "from ucimlrepo import fetch_ucirepo\n",
    "import pandas as pd\n",
    "import numpy as np"
   ]
  },
  {
   "cell_type": "code",
   "execution_count": 131,
   "metadata": {},
   "outputs": [],
   "source": [
    "#Constants\n",
    "NUM_FOLDS = 5"
   ]
  },
  {
   "cell_type": "code",
   "execution_count": 132,
   "metadata": {},
   "outputs": [],
   "source": [
    "# fetch dataset \n",
    "heart_disease = fetch_ucirepo(id=45) \n",
    "\n",
    "# data (as pandas dataframes) \n",
    "X = heart_disease.data.features \n",
    "y = heart_disease.data.targets\n",
    "y = y.rename(columns={\"num\":\"diagnosis\"})"
   ]
  },
  {
   "cell_type": "code",
   "execution_count": 133,
   "metadata": {},
   "outputs": [],
   "source": [
    "#Samples data so that there is an equal distribution of classes\n",
    "\n",
    "# data = X.join(y)\n",
    "\n",
    "# split_data = []\n",
    "# for i in range(0,5):\n",
    "#     dataset = data.loc[data[\"diagnosis\"]==i]\n",
    "#     split_data.append(dataset)\n",
    "\n",
    "# min_sample = min([len(dataset) for dataset in split_data])\n",
    "\n",
    "# split_samples = []\n",
    "# for split in split_data:\n",
    "#     sampled_split = split.sample(min_sample)\n",
    "#     split_samples.append(sampled_split)\n",
    "    \n",
    "# data = pd.concat(split_samples, axis=0, ignore_index=True)\n",
    "# X = data.iloc[:, :-1]\n",
    "# y = data.iloc[:, -1:]\n",
    "\n",
    "\n",
    "#Due to the low number of samples, a k-fold validation scheme will be used\n",
    "fold_split = int(len(X)/NUM_FOLDS)"
   ]
  },
  {
   "cell_type": "code",
   "execution_count": 134,
   "metadata": {},
   "outputs": [],
   "source": [
    "#Normalizes data\n",
    "X = (X-X.mean())/X.std()"
   ]
  },
  {
   "cell_type": "code",
   "execution_count": 135,
   "metadata": {},
   "outputs": [],
   "source": [
    "#Creates model\n",
    "def neural_net(input_shape=13, output_shape=5):\n",
    "    model = Sequential( [\n",
    "        Dense(128, activation='relu', input_shape=(input_shape,)),\n",
    "        Dense(128, activation='relu'),\n",
    "        Dense(128, activation='relu'),\n",
    "        Dense(64, activation='relu'),\n",
    "        Dense(output_shape, activation='softmax')\n",
    "        ])\n",
    "    model.compile(optimizer=Adam(), loss='sparse_categorical_crossentropy', metrics=['F1Score'])\n",
    "    return model\n"
   ]
  },
  {
   "cell_type": "code",
   "execution_count": 136,
   "metadata": {},
   "outputs": [
    {
     "name": "stdout",
     "output_type": "stream",
     "text": [
      "Starting fold 0...\n",
      "\u001b[1m2/2\u001b[0m \u001b[32m━━━━━━━━━━━━━━━━━━━━\u001b[0m\u001b[37m\u001b[0m \u001b[1m0s\u001b[0m 37ms/step\n",
      "Fold 0 pre-trainiing f1-score: 0.3333333333333333\n"
     ]
    },
    {
     "name": "stderr",
     "output_type": "stream",
     "text": [
      "c:\\Users\\Emma\\Documents\\School\\1_CIS_568_Data_Mining\\datamining-project\\.venv\\Lib\\site-packages\\keras\\src\\layers\\core\\dense.py:87: UserWarning: Do not pass an `input_shape`/`input_dim` argument to a layer. When using Sequential models, prefer using an `Input(shape)` object as the first layer in the model instead.\n",
      "  super().__init__(activity_regularizer=activity_regularizer, **kwargs)\n"
     ]
    },
    {
     "name": "stdout",
     "output_type": "stream",
     "text": [
      "\u001b[1m2/2\u001b[0m \u001b[32m━━━━━━━━━━━━━━━━━━━━\u001b[0m\u001b[37m\u001b[0m \u001b[1m0s\u001b[0m 12ms/step\n",
      "Fold 0 f1-score: 0.4298245614035087\n",
      "Starting fold 1...\n",
      "\u001b[1m2/2\u001b[0m \u001b[32m━━━━━━━━━━━━━━━━━━━━\u001b[0m\u001b[37m\u001b[0m \u001b[1m0s\u001b[0m 36ms/step\n",
      "Fold 1 pre-trainiing f1-score: 0.4298245614035087\n"
     ]
    },
    {
     "name": "stderr",
     "output_type": "stream",
     "text": [
      "c:\\Users\\Emma\\Documents\\School\\1_CIS_568_Data_Mining\\datamining-project\\.venv\\Lib\\site-packages\\keras\\src\\layers\\core\\dense.py:87: UserWarning: Do not pass an `input_shape`/`input_dim` argument to a layer. When using Sequential models, prefer using an `Input(shape)` object as the first layer in the model instead.\n",
      "  super().__init__(activity_regularizer=activity_regularizer, **kwargs)\n"
     ]
    },
    {
     "name": "stdout",
     "output_type": "stream",
     "text": [
      "\u001b[1m2/2\u001b[0m \u001b[32m━━━━━━━━━━━━━━━━━━━━\u001b[0m\u001b[37m\u001b[0m \u001b[1m0s\u001b[0m 12ms/step\n",
      "Fold 1 f1-score: 0.352014652014652\n",
      "Starting fold 2...\n",
      "\u001b[1m2/2\u001b[0m \u001b[32m━━━━━━━━━━━━━━━━━━━━\u001b[0m\u001b[37m\u001b[0m \u001b[1m0s\u001b[0m 35ms/step\n",
      "Fold 2 pre-trainiing f1-score: 0.352014652014652\n"
     ]
    },
    {
     "name": "stderr",
     "output_type": "stream",
     "text": [
      "c:\\Users\\Emma\\Documents\\School\\1_CIS_568_Data_Mining\\datamining-project\\.venv\\Lib\\site-packages\\keras\\src\\layers\\core\\dense.py:87: UserWarning: Do not pass an `input_shape`/`input_dim` argument to a layer. When using Sequential models, prefer using an `Input(shape)` object as the first layer in the model instead.\n",
      "  super().__init__(activity_regularizer=activity_regularizer, **kwargs)\n"
     ]
    },
    {
     "name": "stdout",
     "output_type": "stream",
     "text": [
      "\u001b[1m2/2\u001b[0m \u001b[32m━━━━━━━━━━━━━━━━━━━━\u001b[0m\u001b[37m\u001b[0m \u001b[1m0s\u001b[0m 12ms/step\n",
      "Fold 2 f1-score: 0.40992907801418443\n",
      "Starting fold 3...\n",
      "\u001b[1m2/2\u001b[0m \u001b[32m━━━━━━━━━━━━━━━━━━━━\u001b[0m\u001b[37m\u001b[0m \u001b[1m0s\u001b[0m 36ms/step\n",
      "Fold 3 pre-trainiing f1-score: 0.40992907801418443\n"
     ]
    },
    {
     "name": "stderr",
     "output_type": "stream",
     "text": [
      "c:\\Users\\Emma\\Documents\\School\\1_CIS_568_Data_Mining\\datamining-project\\.venv\\Lib\\site-packages\\keras\\src\\layers\\core\\dense.py:87: UserWarning: Do not pass an `input_shape`/`input_dim` argument to a layer. When using Sequential models, prefer using an `Input(shape)` object as the first layer in the model instead.\n",
      "  super().__init__(activity_regularizer=activity_regularizer, **kwargs)\n"
     ]
    },
    {
     "name": "stdout",
     "output_type": "stream",
     "text": [
      "\u001b[1m2/2\u001b[0m \u001b[32m━━━━━━━━━━━━━━━━━━━━\u001b[0m\u001b[37m\u001b[0m \u001b[1m0s\u001b[0m 12ms/step\n",
      "Fold 3 f1-score: 0.39032258064516134\n",
      "Starting fold 4...\n",
      "\u001b[1m2/2\u001b[0m \u001b[32m━━━━━━━━━━━━━━━━━━━━\u001b[0m\u001b[37m\u001b[0m \u001b[1m0s\u001b[0m 39ms/step\n",
      "Fold 4 pre-trainiing f1-score: 0.39032258064516134\n"
     ]
    },
    {
     "name": "stderr",
     "output_type": "stream",
     "text": [
      "c:\\Users\\Emma\\Documents\\School\\1_CIS_568_Data_Mining\\datamining-project\\.venv\\Lib\\site-packages\\keras\\src\\layers\\core\\dense.py:87: UserWarning: Do not pass an `input_shape`/`input_dim` argument to a layer. When using Sequential models, prefer using an `Input(shape)` object as the first layer in the model instead.\n",
      "  super().__init__(activity_regularizer=activity_regularizer, **kwargs)\n"
     ]
    },
    {
     "name": "stdout",
     "output_type": "stream",
     "text": [
      "\u001b[1m2/2\u001b[0m \u001b[32m━━━━━━━━━━━━━━━━━━━━\u001b[0m\u001b[37m\u001b[0m \u001b[1m0s\u001b[0m 12ms/step\n",
      "Fold 4 f1-score: 0.3333333333333333\n"
     ]
    }
   ],
   "source": [
    "f1scores = []\n",
    "pre_training_f1scores = []\n",
    "\n",
    "for i in range(0,NUM_FOLDS):\n",
    "    print(f\"Starting fold {i}...\")\n",
    "    fold_start = i*fold_split\n",
    "    fold_end = fold_start + fold_split\n",
    "\n",
    "    X_val = X[fold_start:fold_end]\n",
    "    y_val = y[fold_start:fold_end]\n",
    "\n",
    "    X_train = pd.concat([X[:fold_start], X[fold_end:]], axis=0, ignore_index=True)\n",
    "    y_train = pd.concat([y[:fold_start], y[fold_end:]], axis=0, ignore_index = True)\n",
    "\n",
    "    nn = neural_net()\n",
    "\n",
    "    pre_training_pred = np.argmax(nn.predict(X_val), axis=1)\n",
    "    pre_training_f1 = f1_score(y_val, pre_training_pred, average='weighted')\n",
    "    pre_training_f1scores.append(pre_training_f1)\n",
    "    print(f\"Fold {i} pre-trainiing f1-score: {f1}\")\n",
    "\n",
    "    nn.fit(X_train, y_train, epochs = 100, batch_size = 10, verbose=0)\n",
    "\n",
    "    y_pred = np.argmax(nn.predict(X_val), axis=1)\n",
    "    f1 = f1_score(y_val, y_pred, average='weighted')\n",
    "    f1scores.append(f1)\n",
    "    print(f\"Fold {i} f1-score: {f1}\")"
   ]
  },
  {
   "cell_type": "code",
   "execution_count": 137,
   "metadata": {},
   "outputs": [
    {
     "name": "stdout",
     "output_type": "stream",
     "text": [
      "Average pre-training f1-score: 0.1685142567841366\n",
      "Average f1-score: 0.38308484108216795\n"
     ]
    }
   ],
   "source": [
    "mean_pretraining_f1 = np.average(pre_training_f1scores)\n",
    "print(f\"Average pre-training f1-score: {mean_pretraining_f1}\")\n",
    "\n",
    "mean_f1 = np.average(f1scores)\n",
    "print(f\"Average f1-score: {mean_f1}\")"
   ]
  }
 ],
 "metadata": {
  "kernelspec": {
   "display_name": ".venv",
   "language": "python",
   "name": "python3"
  },
  "language_info": {
   "codemirror_mode": {
    "name": "ipython",
    "version": 3
   },
   "file_extension": ".py",
   "mimetype": "text/x-python",
   "name": "python",
   "nbconvert_exporter": "python",
   "pygments_lexer": "ipython3",
   "version": "3.12.2"
  }
 },
 "nbformat": 4,
 "nbformat_minor": 2
}
